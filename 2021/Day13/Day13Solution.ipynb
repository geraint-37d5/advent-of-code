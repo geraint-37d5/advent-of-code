{
 "cells": [
  {
   "cell_type": "markdown",
   "metadata": {},
   "source": [
    "# Advent of Code: Day 13"
   ]
  },
  {
   "cell_type": "code",
   "execution_count": 125,
   "metadata": {},
   "outputs": [
    {
     "data": {
      "text/plain": [
       "894×1311 Matrix{Float64}:\n",
       " 0.0  0.0  0.0  0.0  0.0  0.0  0.0  0.0  …  0.0  0.0  0.0  0.0  0.0  0.0  0.0\n",
       " 0.0  0.0  0.0  0.0  0.0  0.0  0.0  0.0     0.0  0.0  0.0  0.0  0.0  0.0  0.0\n",
       " 0.0  0.0  0.0  0.0  0.0  0.0  0.0  0.0     0.0  0.0  0.0  0.0  0.0  0.0  0.0\n",
       " 0.0  0.0  0.0  0.0  0.0  0.0  0.0  0.0     0.0  0.0  0.0  0.0  0.0  0.0  0.0\n",
       " 0.0  0.0  0.0  0.0  0.0  0.0  0.0  0.0     0.0  0.0  0.0  0.0  0.0  0.0  0.0\n",
       " 0.0  0.0  0.0  0.0  0.0  0.0  0.0  0.0  …  0.0  0.0  0.0  0.0  0.0  0.0  0.0\n",
       " 0.0  0.0  0.0  0.0  0.0  0.0  0.0  0.0     0.0  0.0  0.0  0.0  0.0  0.0  0.0\n",
       " 0.0  0.0  0.0  0.0  0.0  0.0  0.0  0.0     0.0  0.0  0.0  0.0  0.0  0.0  0.0\n",
       " 0.0  0.0  0.0  0.0  0.0  0.0  0.0  0.0     0.0  0.0  0.0  0.0  0.0  0.0  0.0\n",
       " 0.0  0.0  0.0  0.0  0.0  0.0  0.0  0.0     0.0  0.0  0.0  0.0  0.0  0.0  0.0\n",
       " 0.0  0.0  0.0  0.0  0.0  0.0  0.0  0.0  …  0.0  0.0  0.0  0.0  0.0  0.0  0.0\n",
       " 0.0  0.0  0.0  0.0  0.0  0.0  0.0  0.0     0.0  0.0  0.0  0.0  0.0  0.0  0.0\n",
       " 0.0  0.0  0.0  0.0  0.0  0.0  0.0  0.0     0.0  0.0  0.0  0.0  0.0  0.0  0.0\n",
       " ⋮                        ⋮              ⋱       ⋮                        ⋮\n",
       " 0.0  0.0  0.0  0.0  0.0  0.0  0.0  0.0     0.0  0.0  0.0  0.0  0.0  0.0  0.0\n",
       " 0.0  0.0  0.0  0.0  0.0  0.0  0.0  0.0     0.0  0.0  0.0  0.0  0.0  0.0  0.0\n",
       " 0.0  0.0  0.0  0.0  0.0  0.0  0.0  0.0     0.0  0.0  0.0  0.0  0.0  0.0  0.0\n",
       " 0.0  0.0  0.0  0.0  0.0  0.0  0.0  0.0  …  0.0  0.0  0.0  0.0  0.0  0.0  0.0\n",
       " 0.0  0.0  0.0  0.0  0.0  0.0  0.0  0.0     0.0  0.0  0.0  0.0  0.0  0.0  0.0\n",
       " 0.0  0.0  0.0  0.0  0.0  0.0  0.0  0.0     0.0  0.0  0.0  0.0  0.0  0.0  0.0\n",
       " 0.0  0.0  0.0  0.0  0.0  0.0  0.0  0.0     0.0  0.0  0.0  0.0  0.0  0.0  0.0\n",
       " 0.0  0.0  0.0  0.0  0.0  0.0  0.0  0.0     0.0  0.0  0.0  0.0  0.0  0.0  0.0\n",
       " 0.0  0.0  0.0  0.0  0.0  0.0  0.0  0.0  …  0.0  0.0  0.0  0.0  0.0  0.0  0.0\n",
       " 0.0  0.0  0.0  0.0  0.0  0.0  0.0  0.0     0.0  0.0  0.0  0.0  0.0  0.0  0.0\n",
       " 0.0  0.0  0.0  0.0  0.0  0.0  0.0  0.0     0.0  0.0  0.0  0.0  0.0  0.0  0.0\n",
       " 0.0  0.0  0.0  0.0  0.0  0.0  0.0  0.0     0.0  0.0  0.0  0.0  0.0  0.0  0.0"
      ]
     },
     "execution_count": 125,
     "metadata": {},
     "output_type": "execute_result"
    }
   ],
   "source": [
    "using Base.Iterators\n",
    "using DelimitedFiles\n",
    "using Match\n",
    "using Underscores\n",
    "\n",
    "function parse_data(fn)\n",
    "  lines = readlines(fn)\n",
    "  seperatorIndex = findall(v -> v == \"\", lines)[1]\n",
    "  marks = @_ view(lines, 1:seperatorIndex - 1) |>\n",
    "             map(split(_, \",\"), __)            |>\n",
    "             map(parse.(Int, _), __)           |>\n",
    "             map(map(v -> v + 1, _), __)\n",
    "  folds = @_ view(lines, seperatorIndex + 1:length(lines)) |>\n",
    "             map(split(_, \"=\"), __)                        |>\n",
    "             map([_[1], parse(Int, _[2]) + 1], __)\n",
    "  (M=marks,F=folds)\n",
    "end\n",
    "\n",
    "#fn = \"ExampleInput.txt\"\n",
    "fn = \"SolutionInput.txt\"\n",
    "Data = parse_data(fn)\n",
    "\n",
    "Paper = zeros(maximum(map(v -> v[2], Data.M)), maximum(map(v -> v[1], Data.M)))\n",
    "\n",
    "for (x,y) ∈ Data.M\n",
    "  Paper[CartesianIndex(y,x)] = 1\n",
    "end\n",
    "\n",
    "Paper"
   ]
  },
  {
   "cell_type": "markdown",
   "metadata": {},
   "source": [
    "## Part 1"
   ]
  },
  {
   "cell_type": "code",
   "execution_count": 133,
   "metadata": {},
   "outputs": [
    {
     "data": {
      "text/plain": [
       "684"
      ]
     },
     "execution_count": 133,
     "metadata": {},
     "output_type": "execute_result"
    }
   ],
   "source": [
    "function foldpaper_y(paper, index)\n",
    "  Paper0 = view(copy(paper), 1:index - 1, :)\n",
    "  Paper1 = reverse(view(copy(paper), index + 1:size(paper, 1), :); dims = 1)\n",
    "\n",
    "  offset = 0\n",
    "  if size(Paper1, 1) != size(Paper0, 1)\n",
    "    offset = size(Paper0, 1) - size(Paper1, 1)\n",
    "  end\n",
    "\n",
    "  for index ∈ findall(v -> v > 0, Paper1)\n",
    "    Paper0[index + CartesianIndex(offset, 0)] = 1\n",
    "  end\n",
    "\n",
    "  Paper0\n",
    "end\n",
    "\n",
    "function foldpaper_x(paper, index)\n",
    "  Paper0 = view(copy(paper), :, 1:index - 1)\n",
    "  Paper1 = reverse(view(copy(paper), :, index + 1:size(paper, 2)); dims = 2)\n",
    "\n",
    "  offset = 0\n",
    "  if size(Paper1, 2) != size(Paper0, 2)\n",
    "    offset = size(Paper0, 2) - size(Paper1, 2)\n",
    "  end\n",
    "\n",
    "  for index ∈ findall(v -> v > 0, Paper1)\n",
    "    Paper0[index + CartesianIndex(0, offset)] = 1\n",
    "  end\n",
    "\n",
    "  Paper0\n",
    "end\n",
    "\n",
    "@_ copy(Paper) |>\n",
    "   reduce((paper, fold) -> begin\n",
    "     @match fold[1] begin\n",
    "      \"fold along y\" => foldpaper_y(paper, fold[2])\n",
    "      \"fold along x\" => foldpaper_x(paper, fold[2])\n",
    "    end\n",
    "   end, [Data.F[1]]; init=__) |>\n",
    "   count(v -> v > 0, __)\n"
   ]
  },
  {
   "cell_type": "markdown",
   "metadata": {},
   "source": [
    "## Part 2"
   ]
  },
  {
   "cell_type": "code",
   "execution_count": 134,
   "metadata": {},
   "outputs": [],
   "source": [
    "R = @_  copy(Paper) |>\n",
    "        reduce((paper, fold) -> begin\n",
    "          @match fold[1] begin\n",
    "            \"fold along y\" => foldpaper_y(paper, fold[2])\n",
    "            \"fold along x\" => foldpaper_x(paper, fold[2])\n",
    "          end\n",
    "        end, Data.F; init=__)\n",
    "\n",
    "O = fill(\".\", size(R, 1), size(R, 2))\n",
    "\n",
    "for index ∈ findall(v -> v > 0, R)\n",
    "  O[index] = \"#\"\n",
    "end\n",
    "\n",
    "open(\"Solution.txt\", \"w\") do io\n",
    "  DelimitedFiles.writedlm(io, O)\n",
    "end"
   ]
  }
 ],
 "metadata": {
  "kernelspec": {
   "display_name": "Julia 1.7.0",
   "language": "julia",
   "name": "julia-1.7"
  },
  "language_info": {
   "file_extension": ".jl",
   "mimetype": "application/julia",
   "name": "julia",
   "version": "1.7.0"
  },
  "orig_nbformat": 4
 },
 "nbformat": 4,
 "nbformat_minor": 2
}
