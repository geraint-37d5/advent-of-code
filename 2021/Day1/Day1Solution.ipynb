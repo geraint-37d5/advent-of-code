{
 "cells": [
  {
   "cell_type": "markdown",
   "metadata": {},
   "source": [
    "# Advent of Code 2021: Day 1\n",
    "\n",
    "## Dependencies"
   ]
  },
  {
   "cell_type": "code",
   "execution_count": 63,
   "metadata": {},
   "outputs": [
    {
     "name": "stderr",
     "output_type": "stream",
     "text": [
      "\u001b[32m\u001b[1m   Resolving\u001b[22m\u001b[39m package versions...\n",
      "\u001b[32m\u001b[1m  No Changes\u001b[22m\u001b[39m to `~/.julia/environments/v1.6/Project.toml`\n",
      "\u001b[32m\u001b[1m  No Changes\u001b[22m\u001b[39m to `~/.julia/environments/v1.6/Manifest.toml`\n"
     ]
    }
   ],
   "source": [
    "import Pkg\n",
    "Pkg.add(\"Underscores\")\n",
    "\n",
    "using Base.Iterators\n",
    "using Underscores"
   ]
  },
  {
   "cell_type": "markdown",
   "metadata": {},
   "source": [
    "## Input File\n",
    "Use `ExampleInput.txt` for the input in the problem description and\n",
    "`SolutionInput.txt` for the full input that was generated."
   ]
  },
  {
   "cell_type": "code",
   "execution_count": 64,
   "metadata": {},
   "outputs": [
    {
     "data": {
      "text/plain": [
       "2000-element Vector{Int64}:\n",
       "  190\n",
       "  168\n",
       "  166\n",
       "  163\n",
       "  170\n",
       "  160\n",
       "  171\n",
       "  166\n",
       "  161\n",
       "  167\n",
       "  175\n",
       "  178\n",
       "  193\n",
       "    ⋮\n",
       " 4459\n",
       " 4461\n",
       " 4465\n",
       " 4478\n",
       " 4479\n",
       " 4450\n",
       " 4452\n",
       " 4454\n",
       " 4445\n",
       " 4447\n",
       " 4459\n",
       " 4482"
      ]
     },
     "execution_count": 64,
     "metadata": {},
     "output_type": "execute_result"
    }
   ],
   "source": [
    "# input = \"ExampleInput.txt\"\n",
    "input = \"SolutionInput.txt\"\n",
    "\n",
    "I = @_ readlines(input) |>\n",
    "       map(parse(Int, _), __)"
   ]
  },
  {
   "cell_type": "markdown",
   "metadata": {},
   "source": [
    "## Part 1"
   ]
  },
  {
   "cell_type": "code",
   "execution_count": 65,
   "metadata": {},
   "outputs": [
    {
     "data": {
      "text/plain": [
       "1301"
      ]
     },
     "execution_count": 65,
     "metadata": {},
     "output_type": "execute_result"
    }
   ],
   "source": [
    "@_ I |>\n",
    "   .-(circshift(__, -1), __) |>\n",
    "   count(_ > 0, __) "
   ]
  },
  {
   "cell_type": "markdown",
   "metadata": {},
   "source": [
    "## Part 2"
   ]
  },
  {
   "cell_type": "code",
   "execution_count": 66,
   "metadata": {},
   "outputs": [
    {
     "data": {
      "text/plain": [
       "1346"
      ]
     },
     "execution_count": 66,
     "metadata": {},
     "output_type": "execute_result"
    }
   ],
   "source": [
    "@_ I |>\n",
    "   zip(__, circshift(__, -1), circshift(__, -2)) |>\n",
    "   take(__, length(__) - 2) |>\n",
    "   map(reduce(.+, _), __) |>\n",
    "   .-(circshift(__, -1), __) |>\n",
    "   count(_ > 0, __) "
   ]
  }
 ],
 "metadata": {
  "kernelspec": {
   "display_name": "Julia 1.6.3",
   "language": "julia",
   "name": "julia-1.6"
  },
  "language_info": {
   "file_extension": ".jl",
   "mimetype": "application/julia",
   "name": "julia",
   "version": "1.6.3"
  },
  "orig_nbformat": 4
 },
 "nbformat": 4,
 "nbformat_minor": 2
}
