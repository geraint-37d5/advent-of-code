{
 "cells": [
  {
   "cell_type": "markdown",
   "metadata": {},
   "source": [
    "# Advent of Code: Day 7"
   ]
  },
  {
   "cell_type": "code",
   "execution_count": 1,
   "metadata": {},
   "outputs": [
    {
     "data": {
      "text/plain": [
       "1000-element Vector{Int64}:\n",
       " 1101\n",
       "    1\n",
       "   29\n",
       "   67\n",
       " 1102\n",
       "    0\n",
       "    1\n",
       "   65\n",
       " 1008\n",
       "   65\n",
       "   35\n",
       "   66\n",
       " 1005\n",
       "    ⋮\n",
       "  190\n",
       "  656\n",
       " 1059\n",
       "  281\n",
       " 1206\n",
       "  292\n",
       "  334\n",
       " 1932\n",
       "   97\n",
       "  350\n",
       "  236\n",
       "  965"
      ]
     },
     "execution_count": 1,
     "metadata": {},
     "output_type": "execute_result"
    }
   ],
   "source": [
    "using Base.Iterators\n",
    "using Formatting\n",
    "using SCIP\n",
    "using JuMP\n",
    "using GLPK\n",
    "using Match\n",
    "using Underscores\n",
    "\n",
    "#ifn = \"ExampleInput.txt\"\n",
    "ifn = \"SolutionInput.txt\"\n",
    "\n",
    "C = @_ read(ifn,String) |> split(__,\",\") |> map(parse(Int,_),__)"
   ]
  },
  {
   "cell_type": "markdown",
   "metadata": {},
   "source": [
    "## Part 1"
   ]
  },
  {
   "cell_type": "code",
   "execution_count": 2,
   "metadata": {},
   "outputs": [
    {
     "data": {
      "text/plain": [
       "349812.0"
      ]
     },
     "execution_count": 2,
     "metadata": {},
     "output_type": "execute_result"
    }
   ],
   "source": [
    "M0 = Model(GLPK.Optimizer)\n",
    "@variable(M0, x[1:length(C)], Int)\n",
    "@variable(M0, x_abs[1:length(C)], Int)\n",
    "@variable(M0, y, Int)\n",
    "for (i, c) in enumerate(C)\n",
    "  @constraint(M0, c - x[i] == y)\n",
    "  @constraint(M0, x_abs[i] >= x[i])\n",
    "  @constraint(M0, x_abs[i] >= -x[i])\n",
    "end\n",
    "@objective(M0, Min, sum(x_abs[i] for i in 1:length(C)))\n",
    "optimize!(M0)\n",
    "objective_value(M0)"
   ]
  },
  {
   "cell_type": "markdown",
   "metadata": {},
   "source": [
    "## Part 2"
   ]
  },
  {
   "cell_type": "code",
   "execution_count": 4,
   "metadata": {},
   "outputs": [
    {
     "name": "stdout",
     "output_type": "stream",
     "text": [
      "presolving:\n",
      "(round 1, fast)       1000 del vars, 1000 del conss, 0 add conss, 1000 chg bounds, 0 chg sides, 0 chg coeffs, 0 upgd conss, 0 impls, 0 clqs\n",
      "(round 2, exhaustive) 1000 del vars, 1000 del conss, 0 add conss, 1000 chg bounds, 0 chg sides, 0 chg coeffs, 2000 upgd conss, 0 impls, 0 clqs\n",
      "presolving (3 rounds: 3 fast, 2 medium, 2 exhaustive):\n",
      " 1000 deleted vars, 1000 deleted constraints, 0 added constraints, 1000 tightened bounds, 0 added holes, 0 changed sides, 0 changed coefficients\n",
      " 0 implications, 0 cliques\n",
      "presolved problem has 2001 variables (0 bin, 1001 int, 0 impl, 1000 cont) and 3000 constraints\n",
      "   2000 constraints of type <varbound>\n",
      "   1000 constraints of type <quadratic>\n",
      "Presolving Time: 0.02\n",
      "\n",
      " time | node  | left  |LP iter|LP it/n|mem/heur|mdpt |vars |cons |rows |cuts |sepa|confs|strbr|  dualbound   | primalbound  |  gap   | compl. \n",
      "p 0.1s|     1 |     0 |     0 |     - |shiftand|   0 |2001 |3000 |7000 |   0 |  0 |   0 |   0 |-1.250000e+02 | 1.895150e+08 |    Inf | unknown\n",
      "  0.4s|     1 |     0 | 10257 |     - |    24M |   0 |2001 |3000 |7000 |   0 |  0 |   0 |   0 | 1.749060e+05 | 1.895150e+08 |  Large | unknown\n",
      "L 0.5s|     1 |     0 | 10257 |     - |undercov|   0 |2001 |3000 |7000 |   0 |  0 |   0 |   0 | 1.749060e+05 | 1.088146e+08 |  Large | unknown\n",
      "  0.9s|     1 |     0 | 20687 |     - |    26M |   0 |2001 |3000 |7998 | 998 |  1 |   0 |   0 | 7.835244e+07 | 1.088146e+08 |  38.88%| unknown\n",
      "  1.0s|     1 |     0 | 20687 |     - |    27M |   0 |2001 |3000 |7998 | 998 |  1 |   0 |   0 | 7.835244e+07 | 1.088146e+08 |  38.88%| unknown\n",
      "  1.2s|     1 |     0 | 22101 |     - |    29M |   0 |2001 |3000 |8998 |1998 |  2 |   0 |   0 | 8.756184e+07 | 1.088146e+08 |  24.27%| unknown\n",
      "t 1.2s|     1 |     0 | 22101 |     - |  trysol|   0 |2001 |3000 |8998 |1998 |  2 |   0 |   0 | 8.756184e+07 | 1.011531e+08 |  15.52%| unknown\n",
      "  2.1s|     1 |     0 | 31861 |     - |    31M |   0 |2001 |3000 |9998 |2998 |  3 |   0 |   0 | 9.710601e+07 | 1.011531e+08 |   4.17%| unknown\n",
      "t 2.1s|     1 |     0 | 31861 |     - |  trysol|   0 |2001 |3000 |9998 |2998 |  3 |   0 |   0 | 9.710601e+07 | 1.008668e+08 |   3.87%| unknown\n",
      "  2.1s|     1 |     0 | 31861 |     - |    31M |   0 |2001 |3000 |9998 |2998 |  3 |   0 |   0 | 9.710601e+07 | 1.008668e+08 |   3.87%| unknown\n",
      "  2.9s|     1 |     0 | 40297 |     - |    33M |   0 |2001 |3000 |  10k|3998 |  4 |   0 |   0 | 9.880581e+07 | 1.008668e+08 |   2.09%| unknown\n",
      "t 3.0s|     1 |     0 | 40297 |     - |  trysol|   0 |2001 |3000 |  10k|3998 |  4 |   0 |   0 | 9.880581e+07 | 9.995055e+07 |   1.16%| unknown\n",
      "  4.0s|     1 |     0 | 50838 |     - |    35M |   0 |2001 |3000 |  11k|4998 |  5 |   0 |   0 | 9.971445e+07 | 9.995055e+07 |   0.24%| unknown\n",
      "  4.2s|     1 |     0 | 51369 |     - |    36M |   0 |2001 |3000 |  12k|5997 |  6 |   0 |   0 | 9.973624e+07 | 9.995055e+07 |   0.21%| unknown\n",
      "  4.5s|     1 |     0 | 52870 |     - |    37M |   0 |2001 |3000 |  13k|6991 |  7 |   0 |   0 | 9.975143e+07 | 9.995055e+07 |   0.20%| unknown\n",
      " time | node  | left  |LP iter|LP it/n|mem/heur|mdpt |vars |cons |rows |cuts |sepa|confs|strbr|  dualbound   | primalbound  |  gap   | compl. \n",
      "t 4.5s|     1 |     0 | 52870 |     - |  trysol|   0 |2001 |3000 |  13k|6991 |  7 |   0 |   0 | 9.975143e+07 | 9.994991e+07 |   0.20%| unknown\n",
      "  5.1s|     1 |     0 | 55376 |     - |    40M |   0 |2001 |3000 |  14k|7991 |  8 |   0 |   0 | 9.975946e+07 | 9.994991e+07 |   0.19%| unknown\n",
      "t 5.2s|     1 |     0 | 55376 |     - |  trysol|   0 |2001 |3000 |  14k|7991 |  8 |   0 |   0 | 9.975946e+07 | 9.994572e+07 |   0.19%| unknown\n",
      "  5.8s|     1 |     0 | 58346 |     - |    42M |   0 |2001 |3000 |  15k|8987 |  9 |   0 |   0 | 9.976390e+07 | 9.994572e+07 |   0.18%| unknown\n",
      "  5.9s|     1 |     0 | 58352 |     - |    44M |   0 |2001 |3000 |  16k|9986 | 10 |   0 |   0 | 9.976390e+07 | 9.994572e+07 |   0.18%| unknown\n",
      " 65.1s|     1 |     0 |258753 |     - |    51M |   0 |2001 |2159 |  16k|9986 | 12 |   0 |   0 | 9.976390e+07 | 9.994572e+07 |   0.18%| unknown\n",
      "*65.1s|     1 |     0 |258753 |     - |    LP  |   0 |2001 |2159 |  16k|9986 | 14 |   0 |   0 | 9.976390e+07 | 9.976390e+07 |   0.00%| unknown\n",
      "\n",
      "SCIP Status        : problem is solved [optimal solution found]\n",
      "Solving Time (sec) : 65.10\n",
      "Solving Nodes      : 1\n",
      "Primal Bound       : +9.97638990000000e+07 (9 solutions)\n",
      "Dual Bound         : +9.97638990000000e+07\n",
      "Gap                : 0.00 %\n"
     ]
    },
    {
     "data": {
      "text/plain": [
       "9.9763899e7"
      ]
     },
     "execution_count": 4,
     "metadata": {},
     "output_type": "execute_result"
    }
   ],
   "source": [
    "M1 = Model(SCIP.Optimizer)\n",
    "@variable(M1, x[1:length(C)], Int)\n",
    "@variable(M1, x_abs[1:length(C)], Int)\n",
    "@variable(M1, x_asq[1:length(C)])\n",
    "@variable(M1, y, Int)\n",
    "for (i, c) in enumerate(C)\n",
    "  @constraint(M1, c - x[i] == y)\n",
    "  @constraint(M1, x_abs[i] >= x[i])\n",
    "  @constraint(M1, x_abs[i] >= -x[i])\n",
    "  @constraint(M1, x_asq[i] == (x_abs[i]^2 + x_abs[i]) / 2)\n",
    "end\n",
    "@objective(M1, Min, sum(x_asq[i] for i in 1:length(C)))\n",
    "\n",
    "optimize!(M1)\n",
    "objective_value(M1)"
   ]
  }
 ],
 "metadata": {
  "kernelspec": {
   "display_name": "Julia 1.7.0",
   "language": "julia",
   "name": "julia-1.7"
  },
  "language_info": {
   "file_extension": ".jl",
   "mimetype": "application/julia",
   "name": "julia",
   "version": "1.7.0"
  },
  "orig_nbformat": 4
 },
 "nbformat": 4,
 "nbformat_minor": 2
}
