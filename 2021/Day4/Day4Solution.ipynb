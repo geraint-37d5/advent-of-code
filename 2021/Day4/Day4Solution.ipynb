{
 "cells": [
  {
   "cell_type": "markdown",
   "metadata": {},
   "source": [
    "# Advent of Code: Day 4"
   ]
  },
  {
   "cell_type": "code",
   "execution_count": 160,
   "metadata": {},
   "outputs": [
    {
     "data": {
      "text/plain": [
       "100-element Vector{LinearAlgebra.Adjoint{Int64, Matrix{Int64}}}:\n",
       " [13 62 … 10 41; 93 59 … 74 75; … ; 56 76 … 96 84; 78 42 … 14 19]\n",
       " [96 38 … 8 7; 78 50 … 29 81; … ; 33 76 … 54 68; 59 95 … 80 63]\n",
       " [36 26 … 29 55; 43 87 … 70 21; … ; 56 79 … 51 2; 50 57 … 86 8]\n",
       " [29 78 … 24 79; 15 81 … 6 38; … ; 45 68 … 85 92; 48 33 … 62 4]\n",
       " [68 38 … 2 27; 74 92 … 11 22; … ; 42 28 … 39 67; 3 66 … 94 47]\n",
       " [6 65 … 30 88; 69 3 … 61 23; … ; 55 12 … 36 73; 15 20 … 38 44]\n",
       " [99 36 … 83 69; 31 58 … 87 56; … ; 45 86 … 12 2; 39 57 … 53 13]\n",
       " [48 46 … 20 69; 89 9 … 45 76; … ; 30 41 … 32 64; 47 31 … 29 75]\n",
       " [49 93 … 83 64; 54 4 … 1 76; … ; 84 55 … 3 57; 16 77 … 25 2]\n",
       " [15 57 … 92 60; 87 66 … 12 52; … ; 39 13 … 20 46; 59 31 … 91 79]\n",
       " [82 16 … 45 42; 21 79 … 62 5; … ; 38 84 … 69 68; 35 44 … 1 47]\n",
       " [8 22 … 35 88; 84 86 … 26 11; … ; 46 47 … 6 96; 58 99 … 29 40]\n",
       " [61 49 … 59 81; 68 58 … 50 23; … ; 94 47 … 21 60; 83 69 … 31 27]\n",
       " ⋮\n",
       " [38 40 … 97 74; 98 17 … 56 58; … ; 10 48 … 81 73; 12 55 … 41 82]\n",
       " [93 29 … 58 5; 9 95 … 67 97; … ; 43 34 … 23 66; 0 88 … 50 78]\n",
       " [72 70 … 50 31; 90 91 … 18 75; … ; 20 63 … 43 2; 56 92 … 30 73]\n",
       " [63 98 … 50 17; 71 79 … 67 44; … ; 59 12 … 83 34; 90 94 … 25 0]\n",
       " [15 24 … 39 53; 63 7 … 77 28; … ; 88 23 … 96 70; 18 69 … 42 75]\n",
       " [65 75 … 20 21; 29 31 … 45 13; … ; 63 38 … 19 37; 53 67 … 14 74]\n",
       " [75 35 … 5 89; 56 50 … 90 62; … ; 40 8 … 97 65; 46 51 … 9 18]\n",
       " [62 42 … 0 53; 41 94 … 88 33; … ; 84 98 … 39 36; 5 4 … 76 82]\n",
       " [99 24 … 5 76; 78 66 … 53 85; … ; 83 6 … 26 69; 67 41 … 68 91]\n",
       " [5 72 … 53 49; 48 6 … 38 15; … ; 69 85 … 67 20; 87 16 … 21 39]\n",
       " [18 43 … 0 77; 91 37 … 32 71; … ; 30 98 … 38 94; 83 63 … 39 14]\n",
       " [26 70 … 5 89; 94 49 … 43 99; … ; 90 73 … 38 40; 60 68 … 2 53]"
      ]
     },
     "execution_count": 160,
     "metadata": {},
     "output_type": "execute_result"
    }
   ],
   "source": [
    "using Base.Iterators\n",
    "using Match\n",
    "using Underscores\n",
    "\n",
    "inf = \"SolutionInput.txt\"\n",
    "\n",
    "dt = @_ read(inf, String) |> split(__, \"\\n\\n\")\n",
    "C = @_ dt[1] |> split(__, \",\") |> map(parse(Int, _), __)\n",
    "\n",
    "pM(s) = @_ split(s, \"\\n\")          |>\n",
    "           map(split(_), __)       |>\n",
    "           map(parse.(Int, _), __) |>\n",
    "           hcat(__...)'\n",
    "\n",
    "M = @_ dt[2:length(dt)] |> map(pM, __)"
   ]
  },
  {
   "cell_type": "markdown",
   "metadata": {},
   "source": [
    "# Part 1"
   ]
  },
  {
   "cell_type": "code",
   "execution_count": 161,
   "metadata": {},
   "outputs": [
    {
     "data": {
      "text/plain": [
       "14093"
      ]
     },
     "execution_count": 161,
     "metadata": {},
     "output_type": "execute_result"
    }
   ],
   "source": [
    "cm(m) = reduce((s, (c,i)) -> begin\n",
    "  @match s.i == -1 begin\n",
    "    false  => s\n",
    "    true   => begin\n",
    "      s.m[s.m.==c] .= -1\n",
    "\n",
    "      rf = @_ eachrow(s.m) |> map(_.==-1,__) |> map(all,__) |> any\n",
    "      cf = @_ eachcol(s.m) |> map(_.==-1,__) |> map(all,__) |> any\n",
    "\n",
    "      @match rf || cf begin\n",
    "        false => s\n",
    "        true  => begin\n",
    "          v = @_ s.m |> filter(_!=-1,__) |> c * sum(__)\n",
    "          (m=s.m,v=v,i=i)\n",
    "        end\n",
    "      end\n",
    "    end\n",
    "  end\n",
    "end, zip(C,1:length(C)); init=(m=m,v=0,i=-1))\n",
    "\n",
    "mins(s) = begin\n",
    "  min_i = @_ s |> map(_.i,__) |> minimum\n",
    "  @_ s |> filter(_.i==min_i,__)\n",
    "end\n",
    "\n",
    "@_ deepcopy(M) |> map(cm(_), __) |> mins |> map(_.v,__) |> maximum"
   ]
  },
  {
   "cell_type": "markdown",
   "metadata": {},
   "source": [
    "## Part 2"
   ]
  },
  {
   "cell_type": "code",
   "execution_count": 162,
   "metadata": {},
   "outputs": [
    {
     "data": {
      "text/plain": [
       "17388"
      ]
     },
     "execution_count": 162,
     "metadata": {},
     "output_type": "execute_result"
    }
   ],
   "source": [
    "maxs(s) = begin\n",
    "  max_i = @_ s |> map(_.i,__) |> maximum\n",
    "  @_ s |> filter(_.i==max_i,__)\n",
    "end\n",
    "\n",
    "@_ deepcopy(M) |> map(cm(_), __) |> maxs |> map(_.v,__) |> minimum"
   ]
  }
 ],
 "metadata": {
  "kernelspec": {
   "display_name": "Julia 1.7.0",
   "language": "julia",
   "name": "julia-1.7"
  },
  "language_info": {
   "file_extension": ".jl",
   "mimetype": "application/julia",
   "name": "julia",
   "version": "1.7.0"
  },
  "orig_nbformat": 4
 },
 "nbformat": 4,
 "nbformat_minor": 2
}
