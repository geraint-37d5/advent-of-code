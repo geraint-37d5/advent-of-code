{
 "cells": [
  {
   "cell_type": "markdown",
   "metadata": {},
   "source": [
    "# Advent of Code: Day 14"
   ]
  },
  {
   "cell_type": "code",
   "execution_count": 96,
   "metadata": {},
   "outputs": [
    {
     "data": {
      "text/plain": [
       "Dict{SubString{String}, SubString{String}} with 100 entries:\n",
       "  \"FN\" => \"V\"\n",
       "  \"PO\" => \"C\"\n",
       "  \"CC\" => \"V\"\n",
       "  \"KF\" => \"O\"\n",
       "  \"BC\" => \"P\"\n",
       "  \"BV\" => \"K\"\n",
       "  \"OP\" => \"K\"\n",
       "  \"PF\" => \"C\"\n",
       "  \"NB\" => \"S\"\n",
       "  \"BB\" => \"P\"\n",
       "  \"NH\" => \"H\"\n",
       "  \"PP\" => \"B\"\n",
       "  \"VN\" => \"S\"\n",
       "  \"SF\" => \"H\"\n",
       "  \"CS\" => \"C\"\n",
       "  \"PN\" => \"N\"\n",
       "  \"CF\" => \"S\"\n",
       "  \"NO\" => \"N\"\n",
       "  \"KV\" => \"B\"\n",
       "  \"OS\" => \"N\"\n",
       "  \"VH\" => \"P\"\n",
       "  \"PS\" => \"H\"\n",
       "  \"BS\" => \"N\"\n",
       "  \"NP\" => \"V\"\n",
       "  \"HO\" => \"N\"\n",
       "  ⋮    => ⋮"
      ]
     },
     "execution_count": 96,
     "metadata": {},
     "output_type": "execute_result"
    }
   ],
   "source": [
    "using Base.Iterators\n",
    "using Combinatorics\n",
    "using DataStructures\n",
    "using Match\n",
    "using StatsKit\n",
    "using Underscores\n",
    "\n",
    "#fn = \"ExampleInput.txt\"\n",
    "fn = \"SolutionInput.txt\"\n",
    "\n",
    "lines = readlines(fn)\n",
    "template = lines[1]\n",
    "insertions = @_ lines[3:length(lines)] |> map(split(_, \" -> \"), __) |> Dict"
   ]
  },
  {
   "cell_type": "markdown",
   "metadata": {},
   "source": [
    "## Part 1"
   ]
  },
  {
   "cell_type": "code",
   "execution_count": 97,
   "metadata": {},
   "outputs": [
    {
     "data": {
      "text/plain": [
       "2068"
      ]
     },
     "execution_count": 97,
     "metadata": {},
     "output_type": "execute_result"
    }
   ],
   "source": [
    "function executeinsertions(template, insertions)\n",
    "  template_next = collect(template)\n",
    "  for i ∈ 1:length(template) - 1\n",
    "    pair = template[i:i + 1]\n",
    "    if haskey(insertions, pair)\n",
    "      new_char = insertions[pair][1]\n",
    "      length_offset = length(template_next) - length(template)\n",
    "      insert!(template_next, length_offset + i + 1, new_char)\n",
    "    end\n",
    "  end\n",
    "  join(template_next)\n",
    "end\n",
    "\n",
    "counts = @_ template                |>\n",
    "            accumulate((template, step) -> begin\n",
    "              (step, executeinsertions(template[2], insertions))\n",
    "            end, 1:10; init=(0,__)) |>\n",
    "            last                    |>\n",
    "            countmap(collect(__[2]))\n",
    "\n",
    "countvalues = values(counts) |> collect\n",
    "\n",
    "maximum(countvalues) - minimum(countvalues)"
   ]
  },
  {
   "cell_type": "markdown",
   "metadata": {},
   "source": [
    "## Part 2"
   ]
  },
  {
   "cell_type": "code",
   "execution_count": 98,
   "metadata": {},
   "outputs": [
    {
     "data": {
      "text/plain": [
       "2158894777814"
      ]
     },
     "execution_count": 98,
     "metadata": {},
     "output_type": "execute_result"
    }
   ],
   "source": [
    "template_pairs = Dict()\n",
    "\n",
    "for i ∈ 1:length(template) - 1\n",
    "  pair = join(template[i:i + 1])\n",
    "  if haskey(template_pairs, pair)\n",
    "    template_pairs[pair] += 1\n",
    "  else\n",
    "    template_pairs[pair] = 1\n",
    "  end\n",
    "end\n",
    "\n",
    "function executeinsertions2(template, insertions)\n",
    "  template_next = Dict(template)\n",
    "  for (pair, count) ∈ pairs(template)\n",
    "    if !haskey(insertions, pair); continue end\n",
    "\n",
    "    new_char = insertions[pair]\n",
    "    new_pair1 = \"$(pair[1])$(new_char[1])\"\n",
    "    new_pair2 = \"$(new_char[1])$(pair[2])\"\n",
    "\n",
    "    template_next[pair] -= count\n",
    "    for new_pair ∈ [new_pair1, new_pair2]\n",
    "      if haskey(template_next, new_pair)\n",
    "        template_next[new_pair] += count\n",
    "      else\n",
    "        template_next[new_pair] = count\n",
    "      end\n",
    "    end\n",
    "  end\n",
    "  filter!(entry -> entry[2] > 0, template_next)\n",
    "  template_next\n",
    "end\n",
    "\n",
    "function countelementsmap(template)\n",
    "  elementcounts = DefaultDict(0)\n",
    "  for (pairs, count) ∈ pairs(template)\n",
    "    for element ∈ collect(pairs)\n",
    "      elementcounts[element] += count\n",
    "    end\n",
    "  end\n",
    "  for (element, count) ∈ pairs(elementcounts)\n",
    "    elementcounts[element] = ceil(Int, count / 2)\n",
    "  end\n",
    "  elementcounts\n",
    "end\n",
    "\n",
    "counts2 = @_ template_pairs                |>\n",
    "             accumulate((template, step) -> begin\n",
    "               (step, executeinsertions2(template[2], insertions))\n",
    "             end, 1:40; init=(0,__)) |>\n",
    "             last                    |>\n",
    "             countelementsmap(__[2])\n",
    "\n",
    "countvalues2 = values(counts2) |> collect\n",
    "\n",
    "maximum(countvalues2) - minimum(countvalues2)"
   ]
  }
 ],
 "metadata": {
  "kernelspec": {
   "display_name": "Julia 1.7.0",
   "language": "julia",
   "name": "julia-1.7"
  },
  "language_info": {
   "file_extension": ".jl",
   "mimetype": "application/julia",
   "name": "julia",
   "version": "1.7.0"
  },
  "orig_nbformat": 4
 },
 "nbformat": 4,
 "nbformat_minor": 2
}
