{
 "cells": [
  {
   "cell_type": "markdown",
   "metadata": {},
   "source": [
    "# Advent of Code 2021: Day 3"
   ]
  },
  {
   "cell_type": "code",
   "execution_count": 145,
   "metadata": {},
   "outputs": [
    {
     "data": {
      "text/plain": [
       "1000×12 adjoint(::Matrix{Int64}) with eltype Int64:\n",
       " 1  1  0  0  0  1  0  1  0  1  1  1\n",
       " 0  1  1  0  1  1  1  1  0  0  1  0\n",
       " 1  1  0  0  1  1  1  1  0  0  1  1\n",
       " 1  0  1  0  0  0  0  1  0  1  1  1\n",
       " 0  1  1  1  0  1  1  0  0  1  0  0\n",
       " 1  1  1  0  0  1  0  1  1  1  0  0\n",
       " 0  1  1  1  0  0  0  0  0  1  0  1\n",
       " 0  1  1  1  1  0  1  1  0  0  1  1\n",
       " 0  0  1  0  0  1  1  1  1  1  1  1\n",
       " 1  1  1  0  0  0  0  1  0  0  0  0\n",
       " 0  0  1  0  0  0  1  0  1  1  0  0\n",
       " 0  1  1  1  0  0  1  1  1  0  1  0\n",
       " 0  1  1  1  0  0  1  1  1  0  0  0\n",
       " ⋮              ⋮              ⋮  \n",
       " 1  0  1  1  0  0  0  0  0  1  1  0\n",
       " 0  1  0  1  0  0  0  1  1  1  1  1\n",
       " 0  0  1  0  1  0  1  1  1  0  0  0\n",
       " 1  0  1  1  0  0  1  0  1  1  0  1\n",
       " 0  1  1  0  0  0  1  1  1  0  1  0\n",
       " 0  0  0  0  0  1  0  0  1  1  0  0\n",
       " 0  0  1  1  1  1  0  1  0  0  1  0\n",
       " 0  1  1  0  1  0  1  0  0  0  0  0\n",
       " 1  1  0  1  0  0  1  1  0  1  1  1\n",
       " 1  0  1  1  0  1  0  0  0  1  0  0\n",
       " 0  0  1  1  1  0  0  0  1  1  0  1\n",
       " 1  1  1  0  0  1  1  0  1  1  1  1"
      ]
     },
     "execution_count": 145,
     "metadata": {},
     "output_type": "execute_result"
    }
   ],
   "source": [
    "using Base.Iterators\n",
    "using StatsKit\n",
    "using Underscores\n",
    "\n",
    "inf = \"SolutionInput.txt\"\n",
    "\n",
    "dt = @_ eachline(inf)           |>\n",
    "        map(split(_, \"\"), __)   |>\n",
    "        map(parse.(Int, _), __) |>\n",
    "        collect                 |>\n",
    "        hcat(__...)'\n"
   ]
  },
  {
   "cell_type": "markdown",
   "metadata": {},
   "source": [
    "## Part 1"
   ]
  },
  {
   "cell_type": "code",
   "execution_count": 146,
   "metadata": {},
   "outputs": [
    {
     "data": {
      "text/plain": [
       "2583164"
      ]
     },
     "execution_count": 146,
     "metadata": {},
     "output_type": "execute_result"
    }
   ],
   "source": [
    "using Base.Iterators\n",
    "using StatsKit\n",
    "using Underscores\n",
    "\n",
    "inf = \"SolutionInput.txt\"\n",
    "\n",
    "dt = @_ eachline(inf)           |>\n",
    "        map(split(_, \"\"), __)   |>\n",
    "        map(parse.(Int, _), __) |>\n",
    "        collect                 |>\n",
    "        hcat(__...)'\n",
    "\n",
    "f(D) = begin\n",
    "  o0 = get(D, 0, 0)\n",
    "  o1 = get(D, 1, 0)\n",
    "  [o0 > o1 ? 0 : 1, o0 > o1 ? 1 : 0]\n",
    "end\n",
    "\n",
    " γ, ϵ = @_ eachcol(dt)       |>\n",
    "           map(countmap, __) |>\n",
    "           map(f, __)        |>\n",
    "           hcat(__...)       |>\n",
    "           eachrow(__)       |>\n",
    "           collect\n",
    "           \n",
    "parse(Int, join(γ); base=2) * parse(Int, join(ϵ); base=2)"
   ]
  },
  {
   "cell_type": "markdown",
   "metadata": {},
   "source": [
    "## Part 2"
   ]
  },
  {
   "cell_type": "code",
   "execution_count": 147,
   "metadata": {},
   "outputs": [
    {
     "data": {
      "text/plain": [
       "2784375"
      ]
     },
     "execution_count": 147,
     "metadata": {},
     "output_type": "execute_result"
    }
   ],
   "source": [
    "using Base.Iterators\n",
    "using Match\n",
    "using StatsKit\n",
    "using Underscores\n",
    "\n",
    "g(D,t) = begin\n",
    "  o0 = get(D, 0, 0)\n",
    "  o1 = get(D, 1, 0)\n",
    "\n",
    "  @match t begin\n",
    "    :mc => o1 >= o0 ? 1 : 0\n",
    "    :lc => o0 >  o1 ? 1 : 0\n",
    "  end\n",
    "end\n",
    "\n",
    "h(dts,t) = begin\n",
    "  reduce((vs, i) -> begin\n",
    "    if size(vs, 1) == 1\n",
    "      vs\n",
    "    else\n",
    "      k = @_ vs[:,i] |> countmap |> g(__, t)\n",
    "      @_ filter(v -> v[i] == k, collect(eachrow(vs))) |> hcat(__...)'\n",
    "    end\n",
    "  end, 1:length(eachcol(dts)); init=dts)[1,:] |> join\n",
    "end\n",
    "\n",
    "r_o2  = parse(Int,h(dt,:mc); base=2)\n",
    "r_co2 = parse(Int,h(dt,:lc); base=2)\n",
    "\n",
    "r_o2 * r_co2"
   ]
  }
 ],
 "metadata": {
  "kernelspec": {
   "display_name": "Julia 1.7.0",
   "language": "julia",
   "name": "julia-1.7"
  },
  "language_info": {
   "file_extension": ".jl",
   "mimetype": "application/julia",
   "name": "julia",
   "version": "1.7.0"
  },
  "orig_nbformat": 4
 },
 "nbformat": 4,
 "nbformat_minor": 2
}
