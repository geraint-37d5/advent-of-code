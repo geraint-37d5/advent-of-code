{
 "cells": [
  {
   "cell_type": "code",
   "execution_count": 101,
   "metadata": {},
   "outputs": [
    {
     "data": {
      "text/plain": [
       "10×10 Matrix{Int64}:\n",
       " 4  5  8  5  6  1  2  3  3  1\n",
       " 5  8  6  3  5  6  6  4  3  3\n",
       " 6  7  1  4  4  1  8  6  1  1\n",
       " 1  7  4  6  4  6  7  3  2  2\n",
       " 6  1  6  1  7  7  5  6  4  4\n",
       " 6  5  8  1  6  3  1  6  6  2\n",
       " 1  2  4  7  1  6  1  8  1  7\n",
       " 8  3  1  2  6  1  5  1  1  3\n",
       " 6  7  5  1  4  6  6  1  4  2\n",
       " 1  1  6  1  8  4  7  7  3  2"
      ]
     },
     "execution_count": 101,
     "metadata": {},
     "output_type": "execute_result"
    }
   ],
   "source": [
    "using Base.Iterators\n",
    "using DataStructures\n",
    "using Match\n",
    "using Underscores\n",
    "\n",
    "#f = \"ExampleInput.txt\"\n",
    "f = \"SolutionInput.txt\"\n",
    "G = @_ readlines(f)            |>\n",
    "       map(split(_,\"\"),__)     |>\n",
    "       map(parse.(Int, _), __) |>\n",
    "       copy(hcat(__...)')"
   ]
  },
  {
   "cell_type": "code",
   "execution_count": 102,
   "metadata": {},
   "outputs": [
    {
     "data": {
      "text/plain": [
       "1571"
      ]
     },
     "execution_count": 102,
     "metadata": {},
     "output_type": "execute_result"
    }
   ],
   "source": [
    "A = [CartesianIndex( 1, 0),\n",
    "     CartesianIndex( 0, 1),\n",
    "     CartesianIndex( 1, 1),\n",
    "     CartesianIndex(-1, 0),\n",
    "     CartesianIndex( 0,-1),\n",
    "     CartesianIndex(-1,-1),\n",
    "     CartesianIndex(-1, 1),\n",
    "     CartesianIndex( 1,-1)]\n",
    "\n",
    "sim!(G) = begin\n",
    "     G .+= 1\n",
    "     F = findall(v->v>9,G)\n",
    "     while !isempty(F)\n",
    "          c = pop!(F)\n",
    "          if G[c] != 0\n",
    "               G[c] += 1\n",
    "          end\n",
    "          if G[c] > 9\n",
    "               G[c] = 0\n",
    "               FC = @_ A                           |> \n",
    "                  map(_+c,__)                      |>\n",
    "                  filter(checkbounds(Bool,G,_),__) |>\n",
    "                  filter(G[_]!=0,__)\n",
    "               for fc ∈ FC\n",
    "                    if G[fc] > 0\n",
    "                         push!(F, fc)\n",
    "                    end\n",
    "               end\n",
    "          end\n",
    "     end\n",
    "     G\n",
    "end\n",
    "\n",
    "@_ copy(G)                                        |>\n",
    "   accumulate((x,y)->sim!(copy(x)),1:100,init=__) |>\n",
    "   map(count(o->o==0,_),__)                       |>\n",
    "   sum\n"
   ]
  },
  {
   "cell_type": "code",
   "execution_count": 111,
   "metadata": {},
   "outputs": [
    {
     "data": {
      "text/plain": [
       "387"
      ]
     },
     "execution_count": 111,
     "metadata": {},
     "output_type": "execute_result"
    }
   ],
   "source": [
    "@_ copy(G)                                                   |>\n",
    "   accumulate((x,y)->(y,sim!(copy(x[2]))),1:400,init=(0,__)) |>\n",
    "   filter(count(o->o==0,_[2])==100,__)                       |>\n",
    "   first(__[1])"
   ]
  }
 ],
 "metadata": {
  "kernelspec": {
   "display_name": "Julia 1.7.0",
   "language": "julia",
   "name": "julia-1.7"
  },
  "language_info": {
   "file_extension": ".jl",
   "mimetype": "application/julia",
   "name": "julia",
   "version": "1.7.0"
  },
  "orig_nbformat": 4
 },
 "nbformat": 4,
 "nbformat_minor": 2
}
