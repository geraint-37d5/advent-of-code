{
 "cells": [
  {
   "cell_type": "markdown",
   "metadata": {},
   "source": [
    "# Advent of Code: Day 6"
   ]
  },
  {
   "cell_type": "code",
   "execution_count": 97,
   "metadata": {},
   "outputs": [
    {
     "data": {
      "text/plain": [
       "\"SolutionInput.txt\""
      ]
     },
     "execution_count": 97,
     "metadata": {},
     "output_type": "execute_result"
    }
   ],
   "source": [
    "using Base.Iterators\n",
    "using DataStructures\n",
    "using Match\n",
    "using StatsKit\n",
    "using Underscores\n",
    "\n",
    "#inf = \"ExampleInput.txt\"\n",
    "inf = \"SolutionInput.txt\""
   ]
  },
  {
   "cell_type": "markdown",
   "metadata": {},
   "source": [
    "## Part 1"
   ]
  },
  {
   "cell_type": "code",
   "execution_count": 98,
   "metadata": {},
   "outputs": [
    {
     "data": {
      "text/plain": [
       "380758"
      ]
     },
     "execution_count": 98,
     "metadata": {},
     "output_type": "execute_result"
    }
   ],
   "source": [
    "F = @_ read(inf, String) |> split(__, \",\") |> map(parse(Int, _), __)\n",
    "\n",
    "sim(F) = begin\n",
    "  Fr = filter(f->f==0,F); Fn = filter(f->f!=0,F)\n",
    "  vcat(map(f->6,Fr),map(f->f-1,Fn),repeat([8], length(Fr)))\n",
    "end\n",
    "\n",
    "simN(F, n) = accumulate((D, n)->(S=sim(D.S),d=n),1:n;init=(S=F,d=0))\n",
    "\n",
    "F_80 = @_ simN(F, 80) |> last |> length(__.S)"
   ]
  },
  {
   "cell_type": "markdown",
   "metadata": {},
   "source": [
    "## Part 2"
   ]
  },
  {
   "cell_type": "code",
   "execution_count": 99,
   "metadata": {},
   "outputs": [
    {
     "data": {
      "text/plain": [
       "1710623015163"
      ]
     },
     "execution_count": 99,
     "metadata": {},
     "output_type": "execute_result"
    }
   ],
   "source": [
    "FG = @_ read(inf, String)      |>\n",
    "        split(__, \",\")         |>\n",
    "        map(parse(Int, _), __) |>\n",
    "        countmap               |>\n",
    "        DefaultDict(0, __)\n",
    "\n",
    "sim2(F) = begin\n",
    "  r = get(F, 0, 0)\n",
    "  Fn = @_ F                              |>\n",
    "          map((_[1]-1,_[2]),collect(__)) |>\n",
    "          filter(_[1]!=-1,__)            |>\n",
    "          DefaultDict(0, __)\n",
    "  Fn[6] += r\n",
    "  Fn[8] += r\n",
    "  Fn\n",
    "end\n",
    "          \n",
    "simN2(F, n) = accumulate((D, n)->(S=sim2(D.S),d=n),1:n;init=(S=FG,d=0))\n",
    "\n",
    "F_256 = @_ simN2(F, 256) |> last |> sum(values(__.S))"
   ]
  },
  {
   "cell_type": "markdown",
   "metadata": {},
   "source": [
    "## Animation"
   ]
  },
  {
   "cell_type": "code",
   "execution_count": 100,
   "metadata": {},
   "outputs": [
    {
     "data": {
      "text/plain": [
       "frame (generic function with 1 method)"
      ]
     },
     "execution_count": 100,
     "metadata": {},
     "output_type": "execute_result"
    }
   ],
   "source": [
    "F = @_ read(\"ExampleInput.txt\", String)          |>\n",
    "       split(__, \",\")                            |>\n",
    "       map(parse(Int, _), __)                    |>\n",
    "       map(((rand(0:1000),rand((0:1000))),_),__) |>\n",
    "       DefaultDict(0, __)\n",
    "\n",
    "sim3!(F) = begin\n",
    "  r = 0\n",
    "  for k in keys(F)\n",
    "    @match F[k] begin\n",
    "      0 => begin\n",
    "        F[k] = 6\n",
    "        r   += 1\n",
    "      end\n",
    "      _ => begin\n",
    "        F[k] -= 1\n",
    "      end\n",
    "    end\n",
    "  end\n",
    "  for _ in 1:r\n",
    "    F[(rand(1:1000),rand(1:1000))] = 8\n",
    "  end\n",
    "  F\n",
    "end\n",
    "\n",
    "bg(sc,frn) = background(\"black\")\n",
    "\n",
    "frame(sc,frn) = begin\n",
    "  origin(Point(0,0))\n",
    "  foreach(p -> begin\n",
    "    a = @match p.second begin\n",
    "      8 => 0.15\n",
    "      7 => 0.20\n",
    "      6 => 0.35\n",
    "      5 => 0.30\n",
    "      4 => 0.45\n",
    "      3 => 0.55\n",
    "      2 => 0.80\n",
    "      1 => 0.95\n",
    "      0 => 1.0\n",
    "      _ => 0\n",
    "    end\n",
    "    setcolor(255,255,0)\n",
    "    setopacity(a)\n",
    "    circle(Point(p.first...), 4, :fill)\n",
    "  end, F)\n",
    "\n",
    "  if frn % 5 == 0\n",
    "    sim3!(F)\n",
    "  end\n",
    "end\n",
    "\n",
    "# Commented out as running in GitHub causes it to timeout.\n",
    "# anim = Movie(1000, 1000, \"sim\")\n",
    "\n",
    "# animate(anim, [\n",
    "#   Scene(anim, bg, 0:500),\n",
    "#   Scene(anim, frame, 0:500)\n",
    "# ], creategif=true, pathname=\"sim.gif\")"
   ]
  },
  {
   "cell_type": "markdown",
   "metadata": {},
   "source": [
    "![Pre-rendered GIF](https://github.com/geraint-37d5/advent-of-code/blob/main/2021/Day6/sim.gif?raw=true)\n",
    "\n",
    "[View pre-rendered GIF](https://github.com/geraint-37d5/advent-of-code/blob/main/2021/Day6/sim.gif)"
   ]
  }
 ],
 "metadata": {
  "kernelspec": {
   "display_name": "Julia 1.7.0",
   "language": "julia",
   "name": "julia-1.7"
  },
  "language_info": {
   "file_extension": ".jl",
   "mimetype": "application/julia",
   "name": "julia",
   "version": "1.7.0"
  },
  "orig_nbformat": 4
 },
 "nbformat": 4,
 "nbformat_minor": 2
}
