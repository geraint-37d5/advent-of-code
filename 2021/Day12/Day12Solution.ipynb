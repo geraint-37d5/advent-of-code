{
 "cells": [
  {
   "cell_type": "markdown",
   "metadata": {},
   "source": [
    "# Advent of Code: Day 12"
   ]
  },
  {
   "cell_type": "code",
   "execution_count": 55,
   "metadata": {},
   "outputs": [
    {
     "data": {
      "text/plain": [
       "Dict{Any, Any} with 12 entries:\n",
       "  \"cd\"    => Any[\"yk\"]\n",
       "  \"LP\"    => Any[\"cb\", \"yk\", \"bf\"]\n",
       "  \"my\"    => Any[\"PK\", \"start\", \"BN\", \"lj\"]\n",
       "  \"lj\"    => Any[\"cb\", \"bf\", \"BN\", \"start\", \"my\"]\n",
       "  \"BN\"    => Any[\"yk\", \"bf\", \"end\", \"my\", \"lj\"]\n",
       "  \"start\" => Any[\"my\", \"PK\", \"lj\"]\n",
       "  \"EP\"    => Any[\"yk\"]\n",
       "  \"yk\"    => Any[\"PK\", \"BN\", \"cd\", \"bf\", \"LP\", \"EP\"]\n",
       "  \"end\"   => Any[\"bf\", \"cb\", \"BN\"]\n",
       "  \"PK\"    => Any[\"yk\", \"my\", \"cb\", \"bf\", \"start\"]\n",
       "  \"bf\"    => Any[\"end\", \"yk\", \"lj\", \"BN\", \"PK\", \"LP\"]\n",
       "  \"cb\"    => Any[\"LP\", \"end\", \"lj\", \"PK\"]"
      ]
     },
     "execution_count": 55,
     "metadata": {},
     "output_type": "execute_result"
    }
   ],
   "source": [
    "using Base.Iterators\n",
    "using Match\n",
    "using StatsKit\n",
    "using Underscores\n",
    "\n",
    "#f = \"ExampleInput.txt\"\n",
    "#f = \"Example2Input.txt\"\n",
    "#f = \"Example3Input.txt\"\n",
    "f = \"SolutionInput.txt\"\n",
    "\n",
    "function parse_edge!(Edges, line)\n",
    "  tokens = split(line, \"-\")\n",
    "  v0 = tokens[1]\n",
    "  v1 = tokens[2]\n",
    "  if !haskey(Edges, v0)\n",
    "    Edges[v0] = []\n",
    "  end\n",
    "  if !haskey(Edges, v1)\n",
    "    Edges[v1] = []\n",
    "  end\n",
    "  push!(Edges[v0], v1)\n",
    "  push!(Edges[v1], v0)\n",
    "  Edges\n",
    "end\n",
    "\n",
    "Edges = Dict()\n",
    "foreach(line -> parse_edge!(Edges, line), readlines(f))\n",
    "Edges"
   ]
  },
  {
   "cell_type": "markdown",
   "metadata": {},
   "source": [
    "## Part 1"
   ]
  },
  {
   "cell_type": "code",
   "execution_count": 56,
   "metadata": {},
   "outputs": [
    {
     "data": {
      "text/plain": [
       "3298"
      ]
     },
     "execution_count": 56,
     "metadata": {},
     "output_type": "execute_result"
    }
   ],
   "source": [
    "function paths(Edges)\n",
    "  found_paths = []\n",
    "  next_vertices = map(vertex -> (vertex, [\"start\"]), Edges[\"start\"])\n",
    "\n",
    "  while !isempty(next_vertices)\n",
    "    current_vertex, partial_path = pop!(next_vertices)\n",
    "\n",
    "    if current_vertex == \"end\"\n",
    "      push!(found_paths, [partial_path..., current_vertex])\n",
    "      continue\n",
    "    end\n",
    "\n",
    "    seen_small_caves = @_ partial_path                     |>\n",
    "                          filter(_ ∉ [\"start\", \"end\"], __) |>\n",
    "                          filter(islowercase(_[1]), __)\n",
    "\n",
    "    child_vertices = @_ Edges[current_vertex] |>\n",
    "                        filter(_ ∉ [\"start\",seen_small_caves...], __)\n",
    "    \n",
    "    for child_vertex ∈ child_vertices\n",
    "      push!(next_vertices, (child_vertex, [partial_path..., current_vertex]))\n",
    "    end\n",
    "  end\n",
    "\n",
    "  found_paths\n",
    "end \n",
    "paths(Edges) |> length"
   ]
  },
  {
   "cell_type": "markdown",
   "metadata": {},
   "source": [
    "## Part 2"
   ]
  },
  {
   "cell_type": "code",
   "execution_count": 57,
   "metadata": {},
   "outputs": [
    {
     "data": {
      "text/plain": [
       "93572"
      ]
     },
     "execution_count": 57,
     "metadata": {},
     "output_type": "execute_result"
    }
   ],
   "source": [
    "function paths_2(Edges)\n",
    "  found_paths = []\n",
    "  next_vertices = map(vertex -> (vertex, [\"start\"]), Edges[\"start\"])\n",
    "\n",
    "  while !isempty(next_vertices)\n",
    "    current_vertex, partial_path = pop!(next_vertices)\n",
    "\n",
    "    if current_vertex == \"end\"\n",
    "      push!(found_paths, [partial_path..., current_vertex])\n",
    "      continue\n",
    "    end\n",
    "\n",
    "    seen_small_caves_with_count = @_ partial_path                     |>\n",
    "                                     filter(_ ∉ [\"start\", \"end\"], __) |>\n",
    "                                     filter(islowercase(_[1]), __)    |>\n",
    "                                     countmap                         |>\n",
    "                                     collect\n",
    "\n",
    "    seen_small_cave_twice = @_ seen_small_caves_with_count |>\n",
    "                               map(_[2]>1,__)              |>\n",
    "                               any\n",
    "    \n",
    "    seen_small_caves = []\n",
    "    if seen_small_cave_twice\n",
    "      seen_small_caves = map(c -> c[1], seen_small_caves_with_count)\n",
    "    end\n",
    "\n",
    "    if current_vertex ∈ seen_small_caves\n",
    "      continue\n",
    "    end\n",
    "\n",
    "    child_vertices = @_ Edges[current_vertex] |>\n",
    "                        filter(_ ∉ [\"start\",seen_small_caves...], __)\n",
    "    \n",
    "    for child_vertex ∈ child_vertices\n",
    "      push!(next_vertices, (child_vertex, [partial_path..., current_vertex]))\n",
    "    end\n",
    "  end\n",
    "\n",
    "  found_paths\n",
    "end\n",
    "\n",
    "paths_2(Edges) |> length"
   ]
  }
 ],
 "metadata": {
  "kernelspec": {
   "display_name": "Julia 1.7.0",
   "language": "julia",
   "name": "julia-1.7"
  },
  "language_info": {
   "file_extension": ".jl",
   "mimetype": "application/julia",
   "name": "julia",
   "version": "1.7.0"
  },
  "orig_nbformat": 4
 },
 "nbformat": 4,
 "nbformat_minor": 2
}
