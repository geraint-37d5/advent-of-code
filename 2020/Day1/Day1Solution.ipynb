{
 "cells": [
  {
   "cell_type": "markdown",
   "metadata": {},
   "source": [
    "# Day 1\n",
    "\n",
    "## Part 1\n",
    "Find two entries that sum 2020 in a list of newline separated numbers and\n",
    "multiply them together."
   ]
  },
  {
   "cell_type": "code",
   "execution_count": 1,
   "metadata": {},
   "outputs": [
    {
     "data": {
      "text/plain": [
       "Dict{Int64, Int64}()"
      ]
     },
     "execution_count": 1,
     "metadata": {},
     "output_type": "execute_result"
    }
   ],
   "source": [
    "input = \"SolutionInput.txt\"\n",
    "R = Dict{Int,Int}()"
   ]
  },
  {
   "cell_type": "code",
   "execution_count": 2,
   "metadata": {},
   "outputs": [
    {
     "data": {
      "text/plain": [
       "Dict{Int64, Int64} with 200 entries:\n",
       "  2004 => 16\n",
       "  1953 => 67\n",
       "  1703 => 317\n",
       "  1956 => 64\n",
       "  1900 => 120\n",
       "  1882 => 138\n",
       "  1722 => 298\n",
       "  1743 => 277\n",
       "  1942 => 78\n",
       "  1742 => 278\n",
       "  1957 => 63\n",
       "  1823 => 197\n",
       "  1932 => 88\n",
       "  1654 => 366\n",
       "  1739 => 281\n",
       "  1814 => 206\n",
       "  1884 => 136\n",
       "  1634 => 386\n",
       "  1676 => 344\n",
       "  1954 => 66\n",
       "  1730 => 290\n",
       "  1641 => 379\n",
       "  1831 => 189\n",
       "  1796 => 224\n",
       "  1859 => 161\n",
       "  ⋮    => ⋮"
      ]
     },
     "execution_count": 2,
     "metadata": {},
     "output_type": "execute_result"
    }
   ],
   "source": [
    "for line in eachline(input)\n",
    "  v = parse(Int, line)\n",
    "  get!(R, v, 2020 - v)\n",
    "end\n",
    "\n",
    "R"
   ]
  },
  {
   "cell_type": "code",
   "execution_count": 3,
   "metadata": {},
   "outputs": [
    {
     "data": {
      "text/plain": [
       "545379"
      ]
     },
     "execution_count": 3,
     "metadata": {},
     "output_type": "execute_result"
    }
   ],
   "source": [
    "s0 = nothing\n",
    "for (k, v) in pairs(R)\n",
    "  if haskey(R, v)\n",
    "    s0 = k * v\n",
    "    break\n",
    "  end\n",
    "end\n",
    "\n",
    "s0"
   ]
  },
  {
   "cell_type": "markdown",
   "metadata": {},
   "source": [
    "## Part Two\n",
    "Find three entries that sum 2020 in a list of newline separated numbers and\n",
    "multiply them together."
   ]
  },
  {
   "cell_type": "code",
   "execution_count": 4,
   "metadata": {},
   "outputs": [
    {
     "data": {
      "text/plain": [
       "257778836"
      ]
     },
     "execution_count": 4,
     "metadata": {},
     "output_type": "execute_result"
    }
   ],
   "source": [
    "s1 = nothing\n",
    "for (x, rx) in pairs(R)\n",
    "  for (y, ry) in pairs(R)\n",
    "    z = rx + ry - 2020\n",
    "    if haskey(R, z)\n",
    "      s1 = x * y * z\n",
    "    end\n",
    "  end\n",
    "end\n",
    "\n",
    "s1"
   ]
  }
 ],
 "metadata": {
  "kernelspec": {
   "display_name": "Julia 1.6.3",
   "language": "julia",
   "name": "julia-1.6"
  },
  "language_info": {
   "file_extension": ".jl",
   "mimetype": "application/julia",
   "name": "julia",
   "version": "1.6.3"
  },
  "orig_nbformat": 4
 },
 "nbformat": 4,
 "nbformat_minor": 2
}
